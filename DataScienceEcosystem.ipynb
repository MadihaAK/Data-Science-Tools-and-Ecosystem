{
 "cells": [
  {
   "cell_type": "markdown",
   "id": "35b4eeb5-be76-486d-bed3-737a350a1075",
   "metadata": {
    "tags": []
   },
   "source": [
    "# Data Science Tools and Ecosystem"
   ]
  },
  {
   "cell_type": "markdown",
   "id": "4184de08-ddb2-4b06-a29c-8937f8be2836",
   "metadata": {},
   "source": [
    "In this notebook, Data Science Tools and Ecosystem are summarized."
   ]
  },
  {
   "cell_type": "markdown",
   "id": "267a37b9-7719-412a-a2d4-e4c6af337ae8",
   "metadata": {},
   "source": [
    "**Objectives:**\n",
    "* List popular languages for Data Science\n",
    "* List commonly used libraries used by Data Scientists\n",
    "* List commonly used Data Science Tools\n",
    "* Examples of some arithmetic operations in Python"
   ]
  },
  {
   "cell_type": "markdown",
   "id": "b2f1fc25-d717-4d63-92fc-b7d89f8eab41",
   "metadata": {},
   "source": [
    "Some of the popular languages that Data Scientists use are:\n",
    "1. Python\n",
    "2. C Language\n",
    "3. R"
   ]
  },
  {
   "cell_type": "markdown",
   "id": "83047903-96d0-486f-8bbc-41692b05d221",
   "metadata": {},
   "source": [
    "Some of the commonly used libraries used by Data Scientists include:\n",
    "1. NumPy\n",
    "2. Pandas\n",
    "3. MatplotLib\n",
    "4. Skicit-Learn\n",
    "5. Seaborn\n",
    "6. BeautifulSoup"
   ]
  },
  {
   "cell_type": "markdown",
   "id": "a59b9de0-186f-4d2e-bc63-580c195693f5",
   "metadata": {},
   "source": [
    "| Data Science Tools |\n",
    "| -------------|\n",
    "| Jupyter Notebook |\n",
    "| RStudio |\n",
    "| GitHub |"
   ]
  },
  {
   "cell_type": "markdown",
   "id": "b7b7a9c3-8268-405a-9480-a7c792971d5b",
   "metadata": {},
   "source": [
    "### Below are a few examples of evaluating arithmetic expressions in Python"
   ]
  },
  {
   "cell_type": "code",
   "execution_count": 3,
   "id": "5c7ff7a8-498b-4dfa-89b2-f394d951f06d",
   "metadata": {
    "tags": []
   },
   "outputs": [
    {
     "data": {
      "text/plain": [
       "17"
      ]
     },
     "execution_count": 3,
     "metadata": {},
     "output_type": "execute_result"
    }
   ],
   "source": [
    "#This a simple arithmetic expression to mutiply then add integers\n",
    "(3*4)+5"
   ]
  },
  {
   "cell_type": "code",
   "execution_count": 4,
   "id": "d4120ffa-4da6-48d3-87f4-9c7c37489a69",
   "metadata": {
    "tags": []
   },
   "outputs": [
    {
     "data": {
      "text/plain": [
       "3.3333333333333335"
      ]
     },
     "execution_count": 4,
     "metadata": {},
     "output_type": "execute_result"
    }
   ],
   "source": [
    "#This will convert 200 minutes to hours by diving by 60\n",
    "200/60"
   ]
  },
  {
   "cell_type": "markdown",
   "id": "f860c2a6-d7f8-422a-9240-9225b26afc71",
   "metadata": {},
   "source": [
    "## Author\n",
    "Madiha Akbar"
   ]
  },
  {
   "cell_type": "code",
   "execution_count": null,
   "id": "5a217dde-3835-49b7-a786-3c9a0569523a",
   "metadata": {},
   "outputs": [],
   "source": []
  }
 ],
 "metadata": {
  "kernelspec": {
   "display_name": "Python",
   "language": "python",
   "name": "conda-env-python-py"
  },
  "language_info": {
   "codemirror_mode": {
    "name": "ipython",
    "version": 3
   },
   "file_extension": ".py",
   "mimetype": "text/x-python",
   "name": "python",
   "nbconvert_exporter": "python",
   "pygments_lexer": "ipython3",
   "version": "3.7.12"
  }
 },
 "nbformat": 4,
 "nbformat_minor": 5
}
